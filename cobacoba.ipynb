{
 "cells": [
  {
   "attachments": {},
   "cell_type": "markdown",
   "metadata": {},
   "source": [
    "TRY PYTHON-ARDUINO SERIAL COMMS (SUCCESS)\n"
   ]
  },
  {
   "cell_type": "code",
   "execution_count": 58,
   "metadata": {},
   "outputs": [
    {
     "name": "stdout",
     "output_type": "stream",
     "text": [
      "available port           :  ['COM8', 'COM9', 'COM3']\n",
      "arduino's port detected  :  COM3\n"
     ]
    }
   ],
   "source": [
    "import serial.tools.list_ports\n",
    "import time\n",
    "\n",
    "# find the port for the Arduino board\n",
    "serial.tools.list_ports.comports()\n",
    "arduino_ports = [\n",
    "    p.device for p in serial.tools.list_ports.comports()\n",
    "]\n",
    "print(\"available port           : \", arduino_ports)\n",
    "arduino_ports = [x for x in arduino_ports if x not in ['COM8', 'COM9']]\n",
    "print(\"arduino's port detected  : \", str(arduino_ports[0]))\n"
   ]
  },
  {
   "cell_type": "code",
   "execution_count": 97,
   "metadata": {},
   "outputs": [
    {
     "name": "stdout",
     "output_type": "stream",
     "text": [
      "3s: camIsReady[1]\n",
      "3s: no data received\n",
      "5s: no data received\n",
      "6s: take_image[2]\n",
      "6s: no data received\n",
      "8s: no data received\n",
      "9s: no data received\n",
      "10s: take_image[3]\n",
      "10s: no data received\n",
      "12s: no data received\n",
      "13s: no data received\n",
      "14s: take_image[4]\n",
      "14s: no data received\n",
      "16s: no data received\n",
      "17s: no data received\n",
      "18s: take_image[5]\n",
      "18s: no data received\n",
      "20s: no data received\n",
      "21s: no data received\n",
      "22s: take_image[6]\n"
     ]
    }
   ],
   "source": [
    "serial_ = serial.Serial(arduino_ports[0], 115200, timeout=1)\n",
    "previousMillis = 2000\n",
    "previousMillisWaitingNoResponse = 2500\n",
    "waitingNoResponseInterval = 11000\n",
    "start_time = time.monotonic() * 1000\n",
    "\n",
    "\n",
    "def millis():\n",
    "    return int(round((time.monotonic() * 1000) - start_time))\n",
    "\n",
    "\n",
    "i = 0\n",
    "i_max = 5\n",
    "time.sleep(2)\n",
    "dataTx = \"camIsReady\"\n",
    "serial_.write(dataTx.encode())\n",
    "time.sleep(1)\n",
    "while True:\n",
    "    waiting = 0\n",
    "    currentMillis = millis()\n",
    "    while serial_.in_waiting > 0:\n",
    "        i += 1\n",
    "        dataRx = serial_.readline().decode().rstrip()\n",
    "        print(str(int(currentMillis/1000))+\"s\", end=\": \")\n",
    "        print(dataRx+\"[\"+str(i)+\"]\")\n",
    "    if i > i_max:\n",
    "        break\n",
    "    elif i <= i_max:\n",
    "        print(str(int(currentMillis/1000))+\"s\", end=\": \")\n",
    "        print(\"no data received\")\n",
    "    time.sleep(1)\n",
    "serial_.close()\n"
   ]
  },
  {
   "cell_type": "code",
   "execution_count": 89,
   "metadata": {},
   "outputs": [],
   "source": [
    "serial_.close()\n"
   ]
  },
  {
   "attachments": {},
   "cell_type": "markdown",
   "metadata": {},
   "source": [
    "TRY PRODUCING TEXT FILES (.CSV) BASED ON IMAGES\n"
   ]
  },
  {
   "cell_type": "code",
   "execution_count": 6,
   "metadata": {},
   "outputs": [],
   "source": [
    "from paddleocr import PaddleOCR, draw_ocr\n",
    "from IPython.display import clear_output\n",
    "from PIL import Image, ImageDraw, ImageFont\n",
    "import cv2 as cv\n",
    "import csv\n"
   ]
  },
  {
   "cell_type": "code",
   "execution_count": 7,
   "metadata": {},
   "outputs": [
    {
     "name": "stdout",
     "output_type": "stream",
     "text": [
      "[2023/04/10 15:21:34] ppocr DEBUG: Namespace(help='==SUPPRESS==', use_gpu=False, use_xpu=False, use_npu=False, ir_optim=True, use_tensorrt=False, min_subgraph_size=15, precision='fp32', gpu_mem=500, image_dir=None, page_num=0, det_algorithm='DB', det_model_dir='C:\\\\Users\\\\Dewi/.paddleocr/whl\\\\det\\\\en\\\\en_PP-OCRv3_det_infer', det_limit_side_len=960, det_limit_type='max', det_box_type='quad', det_db_thresh=0.3, det_db_box_thresh=0.6, det_db_unclip_ratio=1.5, max_batch_size=10, use_dilation=False, det_db_score_mode='fast', det_east_score_thresh=0.8, det_east_cover_thresh=0.1, det_east_nms_thresh=0.2, det_sast_score_thresh=0.5, det_sast_nms_thresh=0.2, det_pse_thresh=0, det_pse_box_thresh=0.85, det_pse_min_area=16, det_pse_scale=1, scales=[8, 16, 32], alpha=1.0, beta=1.0, fourier_degree=5, rec_algorithm='SVTR_LCNet', rec_model_dir='C:\\\\Users\\\\Dewi/.paddleocr/whl\\\\rec\\\\en\\\\en_PP-OCRv3_rec_infer', rec_image_inverse=True, rec_image_shape='3, 48, 320', rec_batch_num=6, max_text_length=25, rec_char_dict_path='d:\\\\testingBETAPaddleOCR\\\\.venv\\\\lib\\\\site-packages\\\\paddleocr\\\\ppocr\\\\utils\\\\en_dict.txt', use_space_char=True, vis_font_path='./doc/fonts/simfang.ttf', drop_score=0.5, e2e_algorithm='PGNet', e2e_model_dir=None, e2e_limit_side_len=768, e2e_limit_type='max', e2e_pgnet_score_thresh=0.5, e2e_char_dict_path='./ppocr/utils/ic15_dict.txt', e2e_pgnet_valid_set='totaltext', e2e_pgnet_mode='fast', use_angle_cls=True, cls_model_dir='C:\\\\Users\\\\Dewi/.paddleocr/whl\\\\cls\\\\ch_ppocr_mobile_v2.0_cls_infer', cls_image_shape='3, 48, 192', label_list=['0', '180'], cls_batch_num=6, cls_thresh=0.9, enable_mkldnn=False, cpu_threads=10, use_pdserving=False, warmup=False, sr_model_dir=None, sr_image_shape='3, 32, 128', sr_batch_num=1, draw_img_save_dir='./inference_results', save_crop_res=False, crop_res_save_dir='./output', use_mp=False, total_process_num=1, process_id=0, benchmark=False, save_log_path='./log_output/', show_log=True, use_onnx=False, output='./output', table_max_len=488, table_algorithm='TableAttn', table_model_dir=None, merge_no_span_structure=True, table_char_dict_path=None, layout_model_dir=None, layout_dict_path=None, layout_score_threshold=0.5, layout_nms_threshold=0.5, kie_algorithm='LayoutXLM', ser_model_dir=None, re_model_dir=None, use_visual_backbone=True, ser_dict_path='../train_data/XFUND/class_list_xfun.txt', ocr_order_method=None, mode='structure', image_orientation=False, layout=True, table=True, ocr=True, recovery=False, use_pdf2docx_api=False, lang='en', det=True, rec=True, type='ocr', ocr_version='PP-OCRv3', structure_version='PP-StructureV2')\n"
     ]
    }
   ],
   "source": [
    "ocr = PaddleOCR(use_angle_cls=True, lang='en')\n"
   ]
  },
  {
   "cell_type": "code",
   "execution_count": null,
   "metadata": {},
   "outputs": [],
   "source": [
    "vid_input = cv.VideoCapture(0)\n",
    "frame_width, frame_height = int(vid_input.get(3)), int(vid_input.get(4))\n",
    "imNum = 0\n",
    "headerList = ['menu_settings', 'params1', 'params2']\n",
    "folder_path = \"./data_test/\"\n",
    "steadyCam = True\n",
    "beginTest = False\n",
    "while True:\n",
    "    ret, frame = vid_input.read()\n",
    "    cv.imshow(\"cam01\", frame)\n",
    "    if steadyCam:\n",
    "        # output = cv.putText(frame,\n",
    "        #                     \"press [enter] to begin\",\n",
    "        #                     (10, 20),\n",
    "        #                     cv.FONT_HERSHEY_SIMPLEX,\n",
    "        #                     0.5,\n",
    "        #                     (255, 255, 100),\n",
    "        #                     1)\n",
    "        # cv.imshow(\"cam01(~)\", frame)\n",
    "        key = cv.waitKey(1) & 0xFF\n",
    "        if key == 113:\n",
    "            print(\"exit program...\")\n",
    "            break\n",
    "        elif key == 13:\n",
    "            filename = str(imNum)\n",
    "            filepath = folder_path+filename+\".png\"\n",
    "            cv.imwrite(filepath, frame)\n",
    "            beginTest = True\n",
    "            steadyCam = False\n",
    "            print(\"text image extraction\")\n",
    "    elif beginTest:\n",
    "        output = cv.putText(frame,\n",
    "                            \"text extraction is working...\",\n",
    "                            (10, 20),\n",
    "                            cv.FONT_HERSHEY_SIMPLEX,\n",
    "                            0.5,\n",
    "                            (255, 255, 100),\n",
    "                            1)\n",
    "        cv.imshow(\"cam01(~)\", output)\n",
    "        filename = str(imNum)\n",
    "        filepath = folder_path+filename+\".png\"\n",
    "        result = ocr.ocr(filepath, cls=True)\n",
    "        txts = [line[1][0] for line in result[0]]\n",
    "        print(txts)\n",
    "        key = cv.waitKey(1) & 0xFF\n",
    "        with open('./data_test/data_test.csv', mode='a', newline='') as file:\n",
    "            headerWriter = csv.DictWriter(file, delimiter=',',\n",
    "                                          fieldnames=headerList)\n",
    "            headerWriter.writeheader()\n",
    "            writer = csv.writer(file)\n",
    "            writer.writerow([txts[0], list(txts[1:])])\n",
    "        file.close()\n",
    "        beginTest = False\n",
    "        steadyCam = True\n",
    "        if key == 113:\n",
    "            print(\"exit program...\")\n",
    "            break\n",
    "    key = cv.waitKey(1) & 0xFF\n",
    "    if key == 113:\n",
    "        break\n",
    "\n",
    "vid_input.release()\n",
    "cv.destroyAllWindows()\n"
   ]
  },
  {
   "cell_type": "code",
   "execution_count": 7,
   "metadata": {},
   "outputs": [
    {
     "name": "stdout",
     "output_type": "stream",
     "text": [
      "camera is available\n"
     ]
    }
   ],
   "source": [
    "import cv2 as cv\n",
    "\n",
    "cap = cv.VideoCapture(0)\n",
    "if cap.isOpened():\n",
    "    print(\"camera is available\")\n",
    "    while True:\n",
    "        ret, frame = cap.read()\n",
    "        cv.imshow('cam', frame)\n",
    "        key = cv.waitKey(1) & 0xFF\n",
    "        if key == 113:\n",
    "            break\n",
    "else:\n",
    "    print(\"camera is not available\")\n",
    "\n",
    "cap.release()\n",
    "cv.destroyAllWindows()\n"
   ]
  },
  {
   "cell_type": "code",
   "execution_count": 11,
   "metadata": {},
   "outputs": [
    {
     "name": "stdout",
     "output_type": "stream",
     "text": [
      "a is True\n"
     ]
    }
   ],
   "source": [
    "a = True\n",
    "b = True\n",
    "if a:\n",
    "    print('a is True')\n",
    "elif b:\n",
    "    print('b is True')\n"
   ]
  },
  {
   "cell_type": "code",
   "execution_count": 14,
   "metadata": {},
   "outputs": [
    {
     "name": "stdout",
     "output_type": "stream",
     "text": [
      "2\n"
     ]
    }
   ],
   "source": [
    "a = 1\n",
    "a += 1\n",
    "\n",
    "print(a)\n"
   ]
  },
  {
   "cell_type": "code",
   "execution_count": 1,
   "metadata": {},
   "outputs": [],
   "source": [
    "import pandas as pd\n"
   ]
  },
  {
   "cell_type": "code",
   "execution_count": null,
   "metadata": {},
   "outputs": [],
   "source": [
    "import csv\n",
    "data_test = []\n",
    "data_ref = []\n",
    "# with open('./data_test/data_test.csv') as test_file:\n",
    "#     csv_reader = csv.reader(test_file)\n",
    "#     desired_row_number = 2 # Change this to the row number you want to read\n",
    "#     current_row_number = 0\n",
    "\n",
    "#     for row in csv_reader:\n",
    "#         if current_row_number == desired_row_number:\n",
    "#             data_test = row\n",
    "#             break\n",
    "#         current_row_number += 1\n",
    "#     print(data_test)\n",
    "# test_file.close()\n",
    "\n",
    "with open('./data_reference/dataRefBeta.csv') as ref_file:\n",
    "    csv_reader = csv.reader(ref_file)\n",
    "    maxRows = sum(1 for row in csv_reader)\n",
    "ref_file.close()\n",
    "\n",
    "with open('./data_reference/dataRefBeta.csv') as ref_file:\n",
    "    for a in range(maxRows):\n",
    "        csv_reader = csv.reader(ref_file)\n",
    "        desired_row_number = a\n",
    "        current_row_number = 0\n",
    "        for row in csv_reader:\n",
    "            data_ref.append(row)\n",
    "        print(data_ref[a])\n",
    "ref_file.close()\n",
    "\n",
    "# import numpy as np\n",
    "# import sklearn\n",
    "# from sklearn.feature_extraction.text import CountVectorizer, cosine_similarity\n",
    "# from sklearn.metrics.pairwise import cosine_similarity\n",
    "# arr1 = data_test\n",
    "# arr2 = data_ref\n",
    "# # Combine the two arrays into a list\n",
    "# combined = [','.join(arr1), ','.join(arr2)]\n",
    "# # Vectorize the list using CountVectorizer\n",
    "# vectorizer = CountVectorizer().fit_transform(combined)\n",
    "# # Compute cosine similarity between the two arrays\n",
    "# similarity = cosine_similarity(vectorizer)[0,1]\n",
    "\n",
    "print(\"Cosine similarity:\", similarity)\n"
   ]
  },
  {
   "cell_type": "code",
   "execution_count": 130,
   "metadata": {},
   "outputs": [
    {
     "name": "stdout",
     "output_type": "stream",
     "text": [
      "[2023/04/12 15:04:56] ppocr DEBUG: Namespace(help='==SUPPRESS==', use_gpu=False, use_xpu=False, use_npu=False, ir_optim=True, use_tensorrt=False, min_subgraph_size=15, precision='fp32', gpu_mem=500, image_dir=None, page_num=0, det_algorithm='DB', det_model_dir='C:\\\\Users\\\\Dewi/.paddleocr/whl\\\\det\\\\en\\\\en_PP-OCRv3_det_infer', det_limit_side_len=960, det_limit_type='max', det_box_type='quad', det_db_thresh=0.3, det_db_box_thresh=0.6, det_db_unclip_ratio=1.5, max_batch_size=10, use_dilation=False, det_db_score_mode='fast', det_east_score_thresh=0.8, det_east_cover_thresh=0.1, det_east_nms_thresh=0.2, det_sast_score_thresh=0.5, det_sast_nms_thresh=0.2, det_pse_thresh=0, det_pse_box_thresh=0.85, det_pse_min_area=16, det_pse_scale=1, scales=[8, 16, 32], alpha=1.0, beta=1.0, fourier_degree=5, rec_algorithm='SVTR_LCNet', rec_model_dir='C:\\\\Users\\\\Dewi/.paddleocr/whl\\\\rec\\\\en\\\\en_PP-OCRv3_rec_infer', rec_image_inverse=True, rec_image_shape='3, 48, 320', rec_batch_num=6, max_text_length=25, rec_char_dict_path='d:\\\\testingBETAPaddleOCR\\\\.venv\\\\lib\\\\site-packages\\\\paddleocr\\\\ppocr\\\\utils\\\\en_dict.txt', use_space_char=True, vis_font_path='./doc/fonts/simfang.ttf', drop_score=0.5, e2e_algorithm='PGNet', e2e_model_dir=None, e2e_limit_side_len=768, e2e_limit_type='max', e2e_pgnet_score_thresh=0.5, e2e_char_dict_path='./ppocr/utils/ic15_dict.txt', e2e_pgnet_valid_set='totaltext', e2e_pgnet_mode='fast', use_angle_cls=True, cls_model_dir='C:\\\\Users\\\\Dewi/.paddleocr/whl\\\\cls\\\\ch_ppocr_mobile_v2.0_cls_infer', cls_image_shape='3, 48, 192', label_list=['0', '180'], cls_batch_num=6, cls_thresh=0.9, enable_mkldnn=False, cpu_threads=10, use_pdserving=False, warmup=False, sr_model_dir=None, sr_image_shape='3, 32, 128', sr_batch_num=1, draw_img_save_dir='./inference_results', save_crop_res=False, crop_res_save_dir='./output', use_mp=False, total_process_num=1, process_id=0, benchmark=False, save_log_path='./log_output/', show_log=True, use_onnx=False, output='./output', table_max_len=488, table_algorithm='TableAttn', table_model_dir=None, merge_no_span_structure=True, table_char_dict_path=None, layout_model_dir=None, layout_dict_path=None, layout_score_threshold=0.5, layout_nms_threshold=0.5, kie_algorithm='LayoutXLM', ser_model_dir=None, re_model_dir=None, use_visual_backbone=True, ser_dict_path='../train_data/XFUND/class_list_xfun.txt', ocr_order_method=None, mode='structure', image_orientation=False, layout=True, table=True, ocr=True, recovery=False, use_pdf2docx_api=False, lang='en', det=True, rec=True, type='ocr', ocr_version='PP-OCRv3', structure_version='PP-StructureV2')\n",
      "[2023/04/12 15:04:57] ppocr DEBUG: dt_boxes num : 4, elapse : 0.1923511028289795\n",
      "[2023/04/12 15:04:57] ppocr DEBUG: cls num  : 4, elapse : 0.04801154136657715\n",
      "[2023/04/12 15:04:58] ppocr DEBUG: rec_res num  : 4, elapse : 0.4016869068145752\n",
      "['Picture', 'Bactlight', '16:9', 'Aspect Ratio']\n",
      "[0.9944123029708862, 0.8503515720367432, 0.9693570137023926, 0.9018705487251282]\n",
      "[[[108.0, 130.0], [163.0, 124.0], [165.0, 144.0], [110.0, 150.0]], [[109.0, 175.0], [162.0, 170.0], [164.0, 186.0], [111.0, 191.0]], [[287.0, 182.0], [313.0, 182.0], [313.0, 194.0], [287.0, 194.0]], [[112.0, 202.0], [186.0, 193.0], [188.0, 206.0], [114.0, 215.0]]]\n"
     ]
    }
   ],
   "source": [
    "import cv2 as cv\n",
    "from paddleocr import PaddleOCR, draw_ocr\n",
    "\n",
    "ocr = PaddleOCR(use_angle_cls=True, lang='en')\n",
    "fonts = './fonts/1942.ttf'\n",
    "\n",
    "images = cv.imread('./data_test/1.png')\n",
    "result = ocr.ocr(images, cls=True)\n",
    "txts = [line[1][0] for line in result[0]]\n",
    "boxes = [line[0] for line in result[0]]\n",
    "scores = [line[1][1] for line in result[0]]\n",
    "print(txts)\n",
    "print(scores)\n",
    "print(boxes)\n",
    "imagesPost = draw_ocr(images, boxes, txts, scores, font_path=fonts)\n",
    "cv.imshow('post', imagesPost)\n",
    "cv.waitKey(0)\n",
    "cv.destroyAllWindows()\n"
   ]
  },
  {
   "cell_type": "code",
   "execution_count": 14,
   "metadata": {},
   "outputs": [
    {
     "name": "stdout",
     "output_type": "stream",
     "text": [
      "2023-04-13 14:14:09.062667\n",
      "The current date and time is 2023-04-13 14:14:09.062667\n"
     ]
    }
   ],
   "source": [
    "from datetime import datetime\n",
    "current_date_and_time = datetime.now()\n",
    "print(str(current_date_and_time))\n",
    "print(\"The current date and time is\", current_date_and_time)"
   ]
  },
  {
   "cell_type": "code",
   "execution_count": 21,
   "metadata": {},
   "outputs": [
    {
     "name": "stdout",
     "output_type": "stream",
     "text": [
      "2023-04-13 14:26:09.384018\n",
      "20230413_1426.csv\n"
     ]
    }
   ],
   "source": [
    "import datetime\n",
    "\n",
    "now = datetime.datetime.now()\n",
    "print(now)\n",
    "filename = now.strftime(\"%Y%m%d_%H%M\")+\".csv\"\n",
    "print(filename)"
   ]
  }
 ],
 "metadata": {
  "kernelspec": {
   "display_name": ".venv",
   "language": "python",
   "name": "python3"
  },
  "language_info": {
   "codemirror_mode": {
    "name": "ipython",
    "version": 3
   },
   "file_extension": ".py",
   "mimetype": "text/x-python",
   "name": "python",
   "nbconvert_exporter": "python",
   "pygments_lexer": "ipython3",
   "version": "3.10.11"
  },
  "orig_nbformat": 4
 },
 "nbformat": 4,
 "nbformat_minor": 2
}
